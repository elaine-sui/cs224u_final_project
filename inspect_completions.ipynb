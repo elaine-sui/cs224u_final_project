{
 "cells": [
  {
   "cell_type": "code",
   "execution_count": 7,
   "source": [
    "import pickle\n",
    "\n",
    "path = \"prontoqa_output/fictional/baseline_1_shot_temp_0.7_seed_1234.pkl\"\n",
    "path2 = \"prontoqa_output/fictional/baseline_1_shot_temp_0.7_seed_5678.pkl\"\n",
    "with open(path, 'rb') as f:\n",
    "    data_df = pickle.load(f)\n",
    "\n",
    "with open(path2, 'rb') as f:\n",
    "    data_df2 = pickle.load(f)"
   ],
   "outputs": [],
   "metadata": {}
  },
  {
   "cell_type": "code",
   "execution_count": 6,
   "source": [
    "id = 299\n",
    "print(data_df.iloc[id])\n",
    "print(data_df2.iloc[id])"
   ],
   "outputs": [
    {
     "output_type": "stream",
     "name": "stdout",
     "text": [
      "id                                                       example232_5\n",
      "num_hops                                                            5\n",
      "test_example        {'question': 'Yumpuses are not large. Every yu...\n",
      "predicted_cot       Max is a tumpus. Tumpuses are jompuses. Max is...\n",
      "predicted_answer                                                False\n",
      "gold_cot            Max is a tumpus. Every tumpus is a jompus. Max...\n",
      "gold_answer                                                     False\n",
      "Name: 299, dtype: object\n",
      "id                                                       example232_5\n",
      "num_hops                                                            5\n",
      "test_example        {'question': 'Yumpuses are not large. Every yu...\n",
      "predicted_cot       Max is a tumpus. Tumpuses are jompuses. Max is...\n",
      "predicted_answer                                                False\n",
      "gold_cot            Max is a tumpus. Every tumpus is a jompus. Max...\n",
      "gold_answer                                                     False\n",
      "Name: 299, dtype: object\n"
     ]
    }
   ],
   "metadata": {}
  },
  {
   "cell_type": "code",
   "execution_count": null,
   "source": [],
   "outputs": [],
   "metadata": {}
  }
 ],
 "metadata": {
  "orig_nbformat": 4,
  "language_info": {
   "name": "python",
   "version": "3.9.16",
   "mimetype": "text/x-python",
   "codemirror_mode": {
    "name": "ipython",
    "version": 3
   },
   "pygments_lexer": "ipython3",
   "nbconvert_exporter": "python",
   "file_extension": ".py"
  },
  "kernelspec": {
   "name": "python3",
   "display_name": "Python 3.9.16 64-bit ('nlu2': conda)"
  },
  "interpreter": {
   "hash": "dd06c664b84c4e28e68e5997011fdaf23f22c2b123b0b281170f4777119280a5"
  }
 },
 "nbformat": 4,
 "nbformat_minor": 2
}