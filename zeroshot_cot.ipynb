{
 "cells": [
  {
   "cell_type": "markdown",
   "source": [
    "## Dataloading"
   ],
   "metadata": {}
  },
  {
   "cell_type": "code",
   "execution_count": 11,
   "source": [
    "import os\n",
    "import pandas as pd\n",
    "import pickle\n",
    "\n",
    "# Load datatset\n",
    "# combine all the hops into one df, add # hops as an additional column\n",
    "DATA_DIR = \"prontoqa_data/fictional\"\n",
    "HOPS = [1, 3, 5]\n",
    "JSON_PATHS = [os.path.join(dir, f\"{i}hop.json\") for i in HOPS]\n",
    "\n",
    "def load_json_to_df(path, num_hops):\n",
    "    df = pd.read_json(path) \n",
    "    df = df.transpose()\n",
    "    df['num_hops'] = num_hops\n",
    "\n",
    "    df = df.reset_index()\n",
    "    df['id'] = df.apply(lambda x: (x['index'] + f\"_{str(x['num_hops'])}\"), axis=1)\n",
    "\n",
    "    return df\n",
    "\n",
    "df = load_json_to_df(JSON_PATHS[0], num_hops=1)\n",
    "print(len(df))\n",
    "for hops, path in zip(HOPS[1:], JSON_PATHS[1:]):\n",
    "    df2 = load_json_to_df(path, num_hops=hops) # starting from the 2nd\n",
    "    df = pd.concat([df, df2])\n",
    "    # print(len(df))\n",
    "\n",
    "df = df.reset_index(drop=True)\n",
    "\n",
    "df.tail(3)\n"
   ],
   "outputs": [
    {
     "output_type": "stream",
     "name": "stdout",
     "text": [
      "500\n"
     ]
    },
    {
     "output_type": "execute_result",
     "data": {
      "text/plain": [
       "           index                                in_context_example0   \n",
       "1497  example498  {'question': 'Dumpuses are red. Dumpuses are y...  \\\n",
       "1498  example499  {'question': 'Each dumpus is red. Dumpuses are...   \n",
       "1499  example500  {'question': 'Rompuses are temperate. Rompuses...   \n",
       "\n",
       "                                    in_context_example1   \n",
       "1497  {'question': 'Dumpuses are bright. Dumpuses ar...  \\\n",
       "1498  {'question': 'Each yumpus is bright. Each yump...   \n",
       "1499  {'question': 'Dumpuses are not dull. Every zum...   \n",
       "\n",
       "                                    in_context_example2   \n",
       "1497  {'question': 'Every wumpus is happy. Each wump...  \\\n",
       "1498  {'question': 'Each jompus is not luminous. Jom...   \n",
       "1499  {'question': 'Each wumpus is small. Every tump...   \n",
       "\n",
       "                                    in_context_example3   \n",
       "1497  {'question': 'Vumpuses are hot. Every vumpus i...  \\\n",
       "1498  {'question': 'Each vumpus is large. Vumpuses a...   \n",
       "1499  {'question': 'Each impus is spicy. Impuses are...   \n",
       "\n",
       "                                    in_context_example4   \n",
       "1497  {'question': 'Every impus is happy. Each impus...  \\\n",
       "1498  {'question': 'Impuses are opaque. Impuses are ...   \n",
       "1499  {'question': 'Every rompus is not large. Every...   \n",
       "\n",
       "                                    in_context_example5   \n",
       "1497  {'question': 'Every numpus is bitter. Every vu...  \\\n",
       "1498  {'question': 'Yumpuses are not bright. Every y...   \n",
       "1499  {'question': 'Dumpuses are opaque. Dumpuses ar...   \n",
       "\n",
       "                                    in_context_example6   \n",
       "1497  {'question': 'Numpuses are temperate. Each num...  \\\n",
       "1498  {'question': 'Zumpuses are feisty. Every zumpu...   \n",
       "1499  {'question': 'Vumpuses are wooden. Every vumpu...   \n",
       "\n",
       "                                    in_context_example7   \n",
       "1497  {'question': 'Jompuses are not small. Every jo...  \\\n",
       "1498  {'question': 'Each jompus is not mean. Jompuse...   \n",
       "1499  {'question': 'Every rompus is wooden. Rompuses...   \n",
       "\n",
       "                                           test_example  num_hops   \n",
       "1497  {'question': 'Jompuses are earthy. Every jompu...         5  \\\n",
       "1498  {'question': 'Every wumpus is brown. Every wum...         5   \n",
       "1499  {'question': 'Every zumpus is aggressive. Zump...         5   \n",
       "\n",
       "                id  \n",
       "1497  example498_5  \n",
       "1498  example499_5  \n",
       "1499  example500_5  "
      ],
      "text/html": [
       "<div>\n",
       "<style scoped>\n",
       "    .dataframe tbody tr th:only-of-type {\n",
       "        vertical-align: middle;\n",
       "    }\n",
       "\n",
       "    .dataframe tbody tr th {\n",
       "        vertical-align: top;\n",
       "    }\n",
       "\n",
       "    .dataframe thead th {\n",
       "        text-align: right;\n",
       "    }\n",
       "</style>\n",
       "<table border=\"1\" class=\"dataframe\">\n",
       "  <thead>\n",
       "    <tr style=\"text-align: right;\">\n",
       "      <th></th>\n",
       "      <th>index</th>\n",
       "      <th>in_context_example0</th>\n",
       "      <th>in_context_example1</th>\n",
       "      <th>in_context_example2</th>\n",
       "      <th>in_context_example3</th>\n",
       "      <th>in_context_example4</th>\n",
       "      <th>in_context_example5</th>\n",
       "      <th>in_context_example6</th>\n",
       "      <th>in_context_example7</th>\n",
       "      <th>test_example</th>\n",
       "      <th>num_hops</th>\n",
       "      <th>id</th>\n",
       "    </tr>\n",
       "  </thead>\n",
       "  <tbody>\n",
       "    <tr>\n",
       "      <th>1497</th>\n",
       "      <td>example498</td>\n",
       "      <td>{'question': 'Dumpuses are red. Dumpuses are y...</td>\n",
       "      <td>{'question': 'Dumpuses are bright. Dumpuses ar...</td>\n",
       "      <td>{'question': 'Every wumpus is happy. Each wump...</td>\n",
       "      <td>{'question': 'Vumpuses are hot. Every vumpus i...</td>\n",
       "      <td>{'question': 'Every impus is happy. Each impus...</td>\n",
       "      <td>{'question': 'Every numpus is bitter. Every vu...</td>\n",
       "      <td>{'question': 'Numpuses are temperate. Each num...</td>\n",
       "      <td>{'question': 'Jompuses are not small. Every jo...</td>\n",
       "      <td>{'question': 'Jompuses are earthy. Every jompu...</td>\n",
       "      <td>5</td>\n",
       "      <td>example498_5</td>\n",
       "    </tr>\n",
       "    <tr>\n",
       "      <th>1498</th>\n",
       "      <td>example499</td>\n",
       "      <td>{'question': 'Each dumpus is red. Dumpuses are...</td>\n",
       "      <td>{'question': 'Each yumpus is bright. Each yump...</td>\n",
       "      <td>{'question': 'Each jompus is not luminous. Jom...</td>\n",
       "      <td>{'question': 'Each vumpus is large. Vumpuses a...</td>\n",
       "      <td>{'question': 'Impuses are opaque. Impuses are ...</td>\n",
       "      <td>{'question': 'Yumpuses are not bright. Every y...</td>\n",
       "      <td>{'question': 'Zumpuses are feisty. Every zumpu...</td>\n",
       "      <td>{'question': 'Each jompus is not mean. Jompuse...</td>\n",
       "      <td>{'question': 'Every wumpus is brown. Every wum...</td>\n",
       "      <td>5</td>\n",
       "      <td>example499_5</td>\n",
       "    </tr>\n",
       "    <tr>\n",
       "      <th>1499</th>\n",
       "      <td>example500</td>\n",
       "      <td>{'question': 'Rompuses are temperate. Rompuses...</td>\n",
       "      <td>{'question': 'Dumpuses are not dull. Every zum...</td>\n",
       "      <td>{'question': 'Each wumpus is small. Every tump...</td>\n",
       "      <td>{'question': 'Each impus is spicy. Impuses are...</td>\n",
       "      <td>{'question': 'Every rompus is not large. Every...</td>\n",
       "      <td>{'question': 'Dumpuses are opaque. Dumpuses ar...</td>\n",
       "      <td>{'question': 'Vumpuses are wooden. Every vumpu...</td>\n",
       "      <td>{'question': 'Every rompus is wooden. Rompuses...</td>\n",
       "      <td>{'question': 'Every zumpus is aggressive. Zump...</td>\n",
       "      <td>5</td>\n",
       "      <td>example500_5</td>\n",
       "    </tr>\n",
       "  </tbody>\n",
       "</table>\n",
       "</div>"
      ]
     },
     "metadata": {},
     "execution_count": 11
    }
   ],
   "metadata": {}
  },
  {
   "cell_type": "code",
   "execution_count": 15,
   "source": [
    "def random_sample(df, k=100):\n",
    "    df = df.sample(frac=1)[:k]\n",
    "    return df\n",
    "\n",
    "def preprocess(k):\n",
    "    df = load_json_to_df(JSON_PATHS[0], num_hops=1)\n",
    "    df = random_sample(df, k)\n",
    "\n",
    "    print(f\"len(df) after adding {JSON_PATHS[0]}: {len(df)}\")\n",
    "    for hops, path in zip(HOPS[1:], JSON_PATHS[1:]):\n",
    "        df2 = load_json_to_df(path, num_hops=hops) # starting from the 2nd\n",
    "        df2 = random_sample(df2, k)\n",
    "        df = pd.concat([df, df2])\n",
    "        print(f\"len(df) after adding {path}: {len(df)}\")\n",
    "\n",
    "    df = df.reset_index(drop=True)\n",
    "\n",
    "    return df\n",
    "\n",
    "k = 100\n",
    "df = preprocess(k)\n",
    "out_file = os.path.join(DATA_DIR, 'sampled_data.pkl')\n",
    "\n",
    "with open(out_file, 'wb') as f:\n",
    "    pickle.dump(df, f)"
   ],
   "outputs": [
    {
     "output_type": "stream",
     "name": "stdout",
     "text": [
      "len(df) after adding prontoqa_data/fictional/1hop.json: 100\n",
      "len(df) after adding prontoqa_data/fictional/3hop.json: 200\n",
      "len(df) after adding prontoqa_data/fictional/5hop.json: 300\n"
     ]
    }
   ],
   "metadata": {}
  },
  {
   "cell_type": "code",
   "execution_count": 19,
   "source": [
    "# Note: question = facts, query = conclusion, chain of thought = reasoning steps, answer = gold label\n",
    "in_context_example0_dict = df['in_context_example0'][0]\n",
    "print(in_context_example0_dict)\n",
    "\n",
    "in_context_example0_dict = df['in_context_example0'][299]\n",
    "print(in_context_example0_dict)"
   ],
   "outputs": [
    {
     "output_type": "stream",
     "name": "stdout",
     "text": [
      "{'question': 'Every vumpus is opaque. Vumpuses are impuses. Each impus is not bright. Each impus is a rompus. Each rompus is red. Every rompus is a numpus. Numpuses are large. Numpuses are yumpuses. Yumpuses are aggressive. Every yumpus is a zumpus. Every zumpus is floral. Every zumpus is a wumpus. Each jompus is not sweet. Each wumpus is sweet. Wumpuses are dumpuses. Stella is a wumpus.', 'query': 'True or false: Stella is not sweet.', 'chain_of_thought': ['Stella is a wumpus.', 'Each wumpus is sweet.', 'Stella is sweet.'], 'answer': 'False'}\n",
      "{'question': 'Zumpuses are nervous. Zumpuses are dumpuses. Dumpuses are bright. Each dumpus is a numpus. Each numpus is liquid. Every wumpus is floral. Numpuses are impuses. Each impus is small. Every impus is a vumpus. Every vumpus is not floral. Vumpuses are tumpuses. Every tumpus is cold. Each tumpus is a rompus. Rompuses are not opaque. Rompuses are yumpuses. Yumpuses are aggressive. Every yumpus is a jompus. Sally is a zumpus.', 'query': 'True or false: Sally is not floral.', 'chain_of_thought': ['Sally is a zumpus.', 'Zumpuses are dumpuses.', 'Sally is a dumpus.', 'Each dumpus is a numpus.', 'Sally is a numpus.', 'Numpuses are impuses.', 'Sally is an impus.', 'Every impus is a vumpus.', 'Sally is a vumpus.', 'Every vumpus is not floral.', 'Sally is not floral.'], 'answer': 'True'}\n"
     ]
    }
   ],
   "metadata": {}
  },
  {
   "cell_type": "markdown",
   "source": [
    "## DSP"
   ],
   "metadata": {}
  },
  {
   "cell_type": "code",
   "execution_count": null,
   "source": [
    "import os\n",
    "import dsp\n",
    "\n",
    "root_path = '.'\n",
    "\n",
    "os.environ[\"DSP_NOTEBOOK_CACHEDIR\"] = os.path.join(root_path, 'cache')\n",
    "\n",
    "openai_key = os.getenv('OPENAI_API_KEY')  # or replace with your API key (optional)\n",
    "lm = dsp.GPT3(model='text-davinci-003', api_key=openai_key)\n",
    "dsp.settings.configure(lm=lm)"
   ],
   "outputs": [],
   "metadata": {}
  },
  {
   "cell_type": "markdown",
   "source": [
    "### Backward Template"
   ],
   "metadata": {}
  },
  {
   "cell_type": "code",
   "execution_count": null,
   "source": [
    "Facts_And_Rules = dsp.Type(\n",
    "    prefix=\"Facts and rules:\", \n",
    "    desc=\"${the facts and rules}\")\n",
    "\n",
    "Query = dsp.Type(\n",
    "    prefix=\"Query:\", \n",
    "    desc=\"${the query}\")\n",
    "\n",
    "Proof = dsp.Type(\n",
    "    prefix=\"Proof:\", \n",
    "    desc=\"${a step-by-step proof that the query is true or false based only on the facts and rules}\",\n",
    "    format=dsp.format_answers\n",
    "    )\n",
    "\n",
    "Answer = dsp.Type(\n",
    "    prefix=\"Answer:\", \n",
    "    desc=\"${the final answer based on the above proof}\",\n",
    "    format=dsp.format_answers\n",
    "    )\n",
    "\n",
    "backward_cot_template = dsp.Template(\n",
    "    instructions=\"Use backward chaining to reason over the facts and rules to determine whether the query is true or false\",\n",
    "    facts_and_rules=Facts_And_Rules(),\n",
    "    query=Query(),\n",
    "    proof=Proof(),\n",
    "    answer=Answer()\n",
    "    )"
   ],
   "outputs": [],
   "metadata": {}
  },
  {
   "cell_type": "markdown",
   "source": [
    "### Forward Template"
   ],
   "metadata": {}
  },
  {
   "cell_type": "code",
   "execution_count": null,
   "source": [
    "Facts_And_Rules = dsp.Type(\n",
    "    prefix=\"Facts and rules:\", \n",
    "    desc=\"${the facts and rules}\")\n",
    "\n",
    "Query = dsp.Type(\n",
    "    prefix=\"Query:\", \n",
    "    desc=\"${the query}\")\n",
    "\n",
    "Proof = dsp.Type(\n",
    "    prefix=\"Proof:\", \n",
    "    desc=\"${a step-by-step proof that the query is true or false based only on the facts and rules}\",\n",
    "    format=dsp.format_answers\n",
    "    )\n",
    "\n",
    "Answer = dsp.Type(\n",
    "    prefix=\"Answer:\", \n",
    "    desc=\"${the final answer based on the above proof}\",\n",
    "    format=dsp.format_answers\n",
    "    )\n",
    "\n",
    "forward_cot_template = dsp.Template(\n",
    "    instructions=\"Use forward chaining to reason over the facts and rules to determine whether the query is true or false\",\n",
    "    facts_and_rules=Facts_And_Rules(),\n",
    "    query=Query(),\n",
    "    proof=Proof(),\n",
    "    answer=Answer()\n",
    "    )"
   ],
   "outputs": [],
   "metadata": {}
  },
  {
   "cell_type": "markdown",
   "source": [
    "### Bidirectional (OR)"
   ],
   "metadata": {}
  },
  {
   "cell_type": "code",
   "execution_count": null,
   "source": [
    "Facts_And_Rules = dsp.Type(\n",
    "    prefix=\"Facts and rules:\", \n",
    "    desc=\"${the facts and rules}\")\n",
    "\n",
    "Query = dsp.Type(\n",
    "    prefix=\"Query:\", \n",
    "    desc=\"${the query}\")\n",
    "\n",
    "Proof = dsp.Type(\n",
    "    prefix=\"Proof:\", \n",
    "    desc=\"${a step-by-step proof that the query is true or false based only on the facts and rules}\",\n",
    "    format=dsp.format_answers\n",
    "    )\n",
    "\n",
    "Answer = dsp.Type(\n",
    "    prefix=\"Answer:\", \n",
    "    desc=\"${the final answer based on the above proof}\",\n",
    "    format=dsp.format_answers\n",
    "    )\n",
    "\n",
    "bidirectional_cot_template = dsp.Template(\n",
    "    instructions=\"Use forward or backward chaining to reason over the facts and rules to determine whether the query is true or false\",\n",
    "    facts_and_rules=Facts_And_Rules(),\n",
    "    query=Query(),\n",
    "    proof=Proof(),\n",
    "    answer=Answer()\n",
    "    )"
   ],
   "outputs": [],
   "metadata": {}
  },
  {
   "cell_type": "markdown",
   "source": [
    "### Helpers"
   ],
   "metadata": {}
  },
  {
   "cell_type": "code",
   "execution_count": null,
   "source": [
    "def get_demos_backward_cot(df, id):\n",
    "    examples = []\n",
    "    for ex_num in range(8):\n",
    "        demo_dict = df.iloc[id][f'in_context_example{ex_num}']\n",
    "        facts_and_rules = demo_dict['question']\n",
    "        query = demo_dict['query']\n",
    "        proof = ' '.join(demo_dict['chain_of_thought'][::-1])\n",
    "        answer = demo_dict['answer']\n",
    "        \n",
    "        ex = dsp.Example(\n",
    "            facts_and_rules=facts_and_rules,\n",
    "            query=query,\n",
    "            proof=proof,\n",
    "            answer=answer\n",
    "        )\n",
    "        examples.append(ex)\n",
    "    return examples\n",
    "\n",
    "def get_demos_forward_cot(df, id):\n",
    "    examples = []\n",
    "    for ex_num in range(8):\n",
    "        demo_dict = df.iloc[id][f'in_context_example{ex_num}']\n",
    "        facts_and_rules = demo_dict['question']\n",
    "        query = demo_dict['query']\n",
    "        proof = ' '.join(demo_dict['chain_of_thought'])\n",
    "        answer = demo_dict['answer']\n",
    "        \n",
    "        ex = dsp.Example(\n",
    "            facts_and_rules=facts_and_rules,\n",
    "            query=query,\n",
    "            proof=proof,\n",
    "            answer=answer\n",
    "        )\n",
    "        examples.append(ex)\n",
    "    return examples\n",
    "\n",
    "def get_test_example_cot(df, id):\n",
    "    demo_dict = df.iloc[id][f'test_example']\n",
    "    facts_and_rules = demo_dict['question'] \n",
    "    query = demo_dict['query']\n",
    "\n",
    "    return dsp.Example(facts_and_rules=facts_and_rules, query=query)\n",
    "\n",
    "def get_test_answer_forward_cot(df, id):\n",
    "    ex_dict = df.iloc[id][f'test_example']\n",
    "    answer = ex_dict['answer']\n",
    "    cot = ex_dict['chain_of_thought']\n",
    "    return ' '.join(cot), answer\n",
    "\n",
    "def get_test_answer_backward_cot(df, id):\n",
    "    ex_dict = df.iloc[id][f'test_example']\n",
    "    answer = ex_dict['answer']\n",
    "    cot = ex_dict['chain_of_thought'][::-1]\n",
    "    return ' '.join(cot), answer\n"
   ],
   "outputs": [],
   "metadata": {}
  },
  {
   "cell_type": "markdown",
   "source": [
    "### DSP Program"
   ],
   "metadata": {}
  },
  {
   "cell_type": "code",
   "execution_count": null,
   "source": [
    "@dsp.transformation\n",
    "def generic_dsp(df, id, template, get_demos, get_test_example, k=2, temperature=0.0): \n",
    "    example = get_test_example(df, id)\n",
    "\n",
    "    if k > 0:\n",
    "        demos = get_demos(df, id)\n",
    "        example.demos = dsp.sample(demos, k=k)\n",
    "    else:\n",
    "        example.demos = []\n",
    "    \n",
    "    # Run your program using `template`:\n",
    "    example, example_compl = dsp.generate(template, temperature=temperature)(example, stage=\"cot\")\n",
    "\n",
    "    # Return the `dsp.Completions`:\n",
    "    return example_compl"
   ],
   "outputs": [],
   "metadata": {}
  },
  {
   "cell_type": "markdown",
   "source": [
    "### Example to see format"
   ],
   "metadata": {}
  },
  {
   "cell_type": "code",
   "execution_count": null,
   "source": [
    "demos = get_demos_forward_cot(df, 0)\n",
    "\n",
    "ex = dsp.Example(\n",
    "    facts_and_rules=df.iloc[0]['test_example']['question'],\n",
    "    query=df.iloc[0]['test_example']['query'],\n",
    "    demos=dsp.sample(demos, k=2)\n",
    ")\n",
    "\n",
    "print(forward_cot_template(ex))"
   ],
   "outputs": [],
   "metadata": {}
  },
  {
   "cell_type": "markdown",
   "source": [
    "### Some more helpers"
   ],
   "metadata": {}
  },
  {
   "cell_type": "code",
   "execution_count": null,
   "source": [
    "# Run a couple of forward passes of the LLM\n",
    "def sample_completion(start, num_total, k, df, template, get_demos, get_test_example, get_test_answer):\n",
    "    num_correct = 0\n",
    "    num_correct_cot = 0\n",
    "\n",
    "    completions = []\n",
    "    for id in range(start, start+num_total):\n",
    "        print(id)\n",
    "        completion = generic_dsp(df, id, template=template, k=k, get_demos=get_demos, get_test_example=get_test_example)\n",
    "        completions.append(completion)\n",
    "\n",
    "        predicted_answer = completion.answer\n",
    "        predicted_cot = completion.proof\n",
    "\n",
    "        if isinstance(get_test_answer, list):\n",
    "            gold_cots = []\n",
    "            for fn in get_test_answer:\n",
    "                gold_cot, gold_answer = fn(df, id)\n",
    "                gold_cots.append(gold_cot)\n",
    "        else:\n",
    "            gold_cot, gold_answer = get_test_answer(df, id)\n",
    "\n",
    "        print(f\"Query: {completion.query}\")\n",
    "        print(f\"Predicted COT: {predicted_cot}\")\n",
    "\n",
    "        if isinstance(gold_cot, list):\n",
    "            for i, cot in gold_cot:\n",
    "                print(f\"Gold COT {i}: {cot}\")\n",
    "        else:\n",
    "            print(f\"Gold COT: {gold_cot}\")\n",
    "\n",
    "        print(f\"Predicted answer: {predicted_answer}\")\n",
    "        print(f\"Gold answer: {gold_answer}\")\n",
    "        print(\"=\"*80)\n",
    "\n",
    "        if predicted_answer == gold_answer:\n",
    "            num_correct += 1\n",
    "        \n",
    "        if predicted_cot == gold_cot:\n",
    "            num_correct_cot += 1\n",
    "        \n",
    "    print(f\"Accuracy: {num_correct / num_total}\")\n",
    "    print(f\"COT Accuracy: {num_correct_cot / num_total}\")\n",
    "    \n",
    "    return completions"
   ],
   "outputs": [],
   "metadata": {}
  },
  {
   "cell_type": "markdown",
   "source": [
    "## Prelim Experiments"
   ],
   "metadata": {}
  },
  {
   "cell_type": "markdown",
   "source": [
    "### Forward CoT"
   ],
   "metadata": {}
  },
  {
   "cell_type": "code",
   "execution_count": null,
   "source": [
    "# Zero-shot Forward COT\n",
    "start = 0 #2480 (5-shot is at the end -- refer to df)\n",
    "num_total = 10\n",
    "k=0\n",
    "template=forward_cot_template\n",
    "get_demos=get_demos_forward_cot\n",
    "get_test_example=get_test_example_cot\n",
    "get_test_answer=get_test_answer_forward_cot\n",
    "completions = sample_completion(start, num_total, k, df, template, get_demos, get_test_example, get_test_answer)"
   ],
   "outputs": [],
   "metadata": {}
  },
  {
   "cell_type": "markdown",
   "source": [
    "## Backward CoT"
   ],
   "metadata": {}
  },
  {
   "cell_type": "code",
   "execution_count": null,
   "source": [
    "# Zero-shot Backward COT\n",
    "start = 0 #2480\n",
    "num_total = 10\n",
    "k=0\n",
    "template=backward_cot_template\n",
    "get_demos=get_demos_backward_cot\n",
    "get_test_example=get_test_example_cot\n",
    "get_test_answer=get_test_answer_backward_cot\n",
    "sample_completion(start, num_total, k, df, template, get_demos, get_test_example, get_test_answer)"
   ],
   "outputs": [],
   "metadata": {}
  },
  {
   "cell_type": "markdown",
   "source": [
    "## Forward or Backward CoT"
   ],
   "metadata": {}
  },
  {
   "cell_type": "code",
   "execution_count": null,
   "source": [
    "# Zero-shot Forward or Backward COT\n",
    "start = 0 #2480\n",
    "num_total = 10\n",
    "k=0\n",
    "template=bidirectional_cot_template\n",
    "get_demos=get_demos_backward_cot # unused b/c zero-shot\n",
    "get_test_example=get_test_example_cot\n",
    "get_test_answer=[get_test_answer_forward_cot, get_test_answer_backward_cot]\n",
    "sample_completion(start, num_total, k, df, template, get_demos, get_test_example, get_test_answer)"
   ],
   "outputs": [],
   "metadata": {}
  }
 ],
 "metadata": {
  "orig_nbformat": 4,
  "language_info": {
   "name": "python",
   "version": "3.9.16",
   "mimetype": "text/x-python",
   "codemirror_mode": {
    "name": "ipython",
    "version": 3
   },
   "pygments_lexer": "ipython3",
   "nbconvert_exporter": "python",
   "file_extension": ".py"
  },
  "kernelspec": {
   "name": "python3",
   "display_name": "Python 3.9.16 64-bit ('nlu2': conda)"
  },
  "interpreter": {
   "hash": "dd06c664b84c4e28e68e5997011fdaf23f22c2b123b0b281170f4777119280a5"
  }
 },
 "nbformat": 4,
 "nbformat_minor": 2
}