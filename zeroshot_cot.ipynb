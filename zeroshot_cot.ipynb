{
 "cells": [
  {
   "cell_type": "markdown",
   "source": [
    "## Dataloading"
   ],
   "metadata": {}
  },
  {
   "cell_type": "code",
   "execution_count": null,
   "source": [
    "import os\n",
    "import pandas as pd\n",
    "\n",
    "# Load datatset\n",
    "# combine all the hops into one df, add # hops as an additional column\n",
    "dir = \"prontoqa_data/fictional\"\n",
    "json_paths = [os.path.join(dir, f\"{i}hop.json\") for i in range(1, 6)]\n",
    "\n",
    "def load_json_to_df(path, num_hops):\n",
    "    df = pd.read_json(path) \n",
    "    df = df.transpose()\n",
    "    df['num_hops'] = num_hops\n",
    "\n",
    "    df = df.reset_index()\n",
    "    df['id'] = df.apply(lambda x: (x['index'] + f\"_{str(x['num_hops'])}\"), axis=1)\n",
    "\n",
    "    return df\n",
    "\n",
    "df = load_json_to_df(json_paths[0], num_hops=1)\n",
    "print(len(df))\n",
    "for i, path in enumerate(json_paths[1:]):\n",
    "    df2 = load_json_to_df(json_paths[0], num_hops=i+2) # starting from the 2nd\n",
    "    df = pd.concat([df, df2])\n",
    "    # print(len(df))\n",
    "\n",
    "df = df.reset_index(drop=True)\n",
    "\n",
    "df.tail(3)\n"
   ],
   "outputs": [],
   "metadata": {}
  },
  {
   "cell_type": "code",
   "execution_count": null,
   "source": [
    "# Note: question = facts, query = conclusion, chain of thought = reasoning steps, answer = gold label\n",
    "in_context_example0_dict = df['in_context_example0'][0]\n",
    "print(in_context_example0_dict)"
   ],
   "outputs": [],
   "metadata": {}
  },
  {
   "cell_type": "markdown",
   "source": [
    "## DSP"
   ],
   "metadata": {}
  },
  {
   "cell_type": "code",
   "execution_count": null,
   "source": [
    "import os\n",
    "import dsp\n",
    "\n",
    "root_path = '.'\n",
    "\n",
    "os.environ[\"DSP_NOTEBOOK_CACHEDIR\"] = os.path.join(root_path, 'cache')\n",
    "\n",
    "openai_key = os.getenv('OPENAI_API_KEY')  # or replace with your API key (optional)\n",
    "lm = dsp.GPT3(model='text-davinci-003', api_key=openai_key)\n",
    "dsp.settings.configure(lm=lm)"
   ],
   "outputs": [],
   "metadata": {}
  },
  {
   "cell_type": "markdown",
   "source": [
    "### Forward Template"
   ],
   "metadata": {}
  },
  {
   "cell_type": "code",
   "execution_count": null,
   "source": [
    "Facts_And_Rules = dsp.Type(\n",
    "    prefix=\"Facts and rules:\", \n",
    "    desc=\"${the facts and rules}\")\n",
    "\n",
    "Query = dsp.Type(\n",
    "    prefix=\"Query:\", \n",
    "    desc=\"${the query}\")\n",
    "\n",
    "Proof = dsp.Type(\n",
    "    prefix=\"Proof:\", \n",
    "    desc=\"${a step-by-step proof that the query is true or false based only on the facts and rules}\",\n",
    "    format=dsp.format_answers\n",
    "    )\n",
    "\n",
    "Answer = dsp.Type(\n",
    "    prefix=\"Answer:\", \n",
    "    desc=\"${the final answer based on the above proof}\",\n",
    "    format=dsp.format_answers\n",
    "    )\n",
    "\n",
    "backward_cot_template = dsp.Template(\n",
    "    instructions=\"Use backward chaining to reason over the facts and rules to determine whether the query is true or false\",\n",
    "    facts_and_rules=Facts_And_Rules(),\n",
    "    query=Query(),\n",
    "    proof=Proof(),\n",
    "    answer=Answer()\n",
    "    )"
   ],
   "outputs": [],
   "metadata": {}
  },
  {
   "cell_type": "markdown",
   "source": [
    "### Backward Template"
   ],
   "metadata": {}
  },
  {
   "cell_type": "code",
   "execution_count": null,
   "source": [
    "Facts_And_Rules = dsp.Type(\n",
    "    prefix=\"Facts and rules:\", \n",
    "    desc=\"${the facts and rules}\")\n",
    "\n",
    "Query = dsp.Type(\n",
    "    prefix=\"Query:\", \n",
    "    desc=\"${the query}\")\n",
    "\n",
    "Proof = dsp.Type(\n",
    "    prefix=\"Proof:\", \n",
    "    desc=\"${a step-by-step proof that the query is true or false based only on the facts and rules}\",\n",
    "    format=dsp.format_answers\n",
    "    )\n",
    "\n",
    "Answer = dsp.Type(\n",
    "    prefix=\"Answer:\", \n",
    "    desc=\"${the final answer based on the above proof}\",\n",
    "    format=dsp.format_answers\n",
    "    )\n",
    "\n",
    "forward_cot_template = dsp.Template(\n",
    "    instructions=\"Use forward chaining to reason over the facts and rules to determine whether the query is true or false\",\n",
    "    facts_and_rules=Facts_And_Rules(),\n",
    "    query=Query(),\n",
    "    proof=Proof(),\n",
    "    answer=Answer()\n",
    "    )"
   ],
   "outputs": [],
   "metadata": {}
  },
  {
   "cell_type": "markdown",
   "source": [
    "### Bidirectional (OR)"
   ],
   "metadata": {}
  },
  {
   "cell_type": "code",
   "execution_count": null,
   "source": [
    "Facts_And_Rules = dsp.Type(\n",
    "    prefix=\"Facts and rules:\", \n",
    "    desc=\"${the facts and rules}\")\n",
    "\n",
    "Query = dsp.Type(\n",
    "    prefix=\"Query:\", \n",
    "    desc=\"${the query}\")\n",
    "\n",
    "Proof = dsp.Type(\n",
    "    prefix=\"Proof:\", \n",
    "    desc=\"${a step-by-step proof that the query is true or false based only on the facts and rules}\",\n",
    "    format=dsp.format_answers\n",
    "    )\n",
    "\n",
    "Answer = dsp.Type(\n",
    "    prefix=\"Answer:\", \n",
    "    desc=\"${the final answer based on the above proof}\",\n",
    "    format=dsp.format_answers\n",
    "    )\n",
    "\n",
    "bidirectional_cot_template = dsp.Template(\n",
    "    instructions=\"Use forward or backward chaining to reason over the facts and rules to determine whether the query is true or false\",\n",
    "    facts_and_rules=Facts_And_Rules(),\n",
    "    query=Query(),\n",
    "    proof=Proof(),\n",
    "    answer=Answer()\n",
    "    )"
   ],
   "outputs": [],
   "metadata": {}
  },
  {
   "cell_type": "markdown",
   "source": [
    "### Helpers"
   ],
   "metadata": {}
  },
  {
   "cell_type": "code",
   "execution_count": null,
   "source": [
    "def get_demos_backward_cot(df, id):\n",
    "    examples = []\n",
    "    for ex_num in range(8):\n",
    "        demo_dict = df.iloc[id][f'in_context_example{ex_num}']\n",
    "        facts_and_rules = demo_dict['question']\n",
    "        query = demo_dict['query']\n",
    "        proof = ' '.join(demo_dict['chain_of_thought'][::-1])\n",
    "        answer = demo_dict['answer']\n",
    "        \n",
    "        ex = dsp.Example(\n",
    "            facts_and_rules=facts_and_rules,\n",
    "            query=query,\n",
    "            proof=proof,\n",
    "            answer=answer\n",
    "        )\n",
    "        examples.append(ex)\n",
    "    return examples\n",
    "\n",
    "def get_demos_forward_cot(df, id):\n",
    "    examples = []\n",
    "    for ex_num in range(8):\n",
    "        demo_dict = df.iloc[id][f'in_context_example{ex_num}']\n",
    "        facts_and_rules = demo_dict['question']\n",
    "        query = demo_dict['query']\n",
    "        proof = ' '.join(demo_dict['chain_of_thought'])\n",
    "        answer = demo_dict['answer']\n",
    "        \n",
    "        ex = dsp.Example(\n",
    "            facts_and_rules=facts_and_rules,\n",
    "            query=query,\n",
    "            proof=proof,\n",
    "            answer=answer\n",
    "        )\n",
    "        examples.append(ex)\n",
    "    return examples\n",
    "\n",
    "def get_test_example_cot(df, id):\n",
    "    demo_dict = df.iloc[id][f'test_example']\n",
    "    facts_and_rules = demo_dict['question'] \n",
    "    query = demo_dict['query']\n",
    "\n",
    "    return dsp.Example(facts_and_rules=facts_and_rules, query=query)\n",
    "\n",
    "def get_test_answer_forward_cot(df, id):\n",
    "    ex_dict = df.iloc[id][f'test_example']\n",
    "    answer = ex_dict['answer']\n",
    "    cot = ex_dict['chain_of_thought']\n",
    "    return ' '.join(cot), answer\n",
    "\n",
    "def get_test_answer_backward_cot(df, id):\n",
    "    ex_dict = df.iloc[id][f'test_example']\n",
    "    answer = ex_dict['answer']\n",
    "    cot = ex_dict['chain_of_thought'][::-1]\n",
    "    return ' '.join(cot), answer\n"
   ],
   "outputs": [],
   "metadata": {}
  },
  {
   "cell_type": "markdown",
   "source": [
    "### DSP Program"
   ],
   "metadata": {}
  },
  {
   "cell_type": "code",
   "execution_count": null,
   "source": [
    "@dsp.transformation\n",
    "def generic_dsp(df, id, template, get_demos, get_test_example, k=2, temperature=0.0): \n",
    "    example = get_test_example(df, id)\n",
    "\n",
    "    if k > 0:\n",
    "        demos = get_demos(df, id)\n",
    "        example.demos = dsp.sample(demos, k=k)\n",
    "    else:\n",
    "        example.demos = []\n",
    "    \n",
    "    # Run your program using `template`:\n",
    "    example, example_compl = dsp.generate(template, temperature=temperature)(example, stage=\"cot\")\n",
    "\n",
    "    # Return the `dsp.Completions`:\n",
    "    return example_compl"
   ],
   "outputs": [],
   "metadata": {}
  },
  {
   "cell_type": "markdown",
   "source": [
    "### Example to see format"
   ],
   "metadata": {}
  },
  {
   "cell_type": "code",
   "execution_count": null,
   "source": [
    "demos = get_demos_forward_cot(df, 0)\n",
    "\n",
    "ex = dsp.Example(\n",
    "    facts_and_rules=df.iloc[0]['test_example']['question'],\n",
    "    query=df.iloc[0]['test_example']['query'],\n",
    "    demos=dsp.sample(demos, k=2)\n",
    ")\n",
    "\n",
    "print(forward_cot_template(ex))"
   ],
   "outputs": [],
   "metadata": {}
  },
  {
   "cell_type": "markdown",
   "source": [
    "### Some more helpers"
   ],
   "metadata": {}
  },
  {
   "cell_type": "code",
   "execution_count": null,
   "source": [
    "# Run a couple of forward passes of the LLM\n",
    "def sample_completion(start, num_total, k, df, template, get_demos, get_test_example, get_test_answer):\n",
    "    num_correct = 0\n",
    "    num_correct_cot = 0\n",
    "\n",
    "    completions = []\n",
    "    for id in range(start, start+num_total):\n",
    "        print(id)\n",
    "        completion = generic_dsp(df, id, template=template, k=k, get_demos=get_demos, get_test_example=get_test_example)\n",
    "        completions.append(completion)\n",
    "\n",
    "        predicted_answer = completion.answer\n",
    "        predicted_cot = completion.proof\n",
    "\n",
    "        if isinstance(get_test_answer, list):\n",
    "            gold_cots = []\n",
    "            for fn in get_test_answer:\n",
    "                gold_cot, gold_answer = fn(df, id)\n",
    "                gold_cots.append(gold_cot)\n",
    "        else:\n",
    "            gold_cot, gold_answer = get_test_answer(df, id)\n",
    "\n",
    "        print(f\"Query: {completion.query}\")\n",
    "        print(f\"Predicted COT: {predicted_cot}\")\n",
    "\n",
    "        if isinstance(gold_cot, list):\n",
    "            for i, cot in gold_cot:\n",
    "                print(f\"Gold COT {i}: {cot}\")\n",
    "        else:\n",
    "            print(f\"Gold COT: {gold_cot}\")\n",
    "\n",
    "        print(f\"Predicted answer: {predicted_answer}\")\n",
    "        print(f\"Gold answer: {gold_answer}\")\n",
    "        print(\"=\"*80)\n",
    "\n",
    "        if predicted_answer == gold_answer:\n",
    "            num_correct += 1\n",
    "        \n",
    "        if predicted_cot == gold_cot:\n",
    "            num_correct_cot += 1\n",
    "        \n",
    "    print(f\"Accuracy: {num_correct / num_total}\")\n",
    "    print(f\"COT Accuracy: {num_correct_cot / num_total}\")\n",
    "    \n",
    "    return completions"
   ],
   "outputs": [],
   "metadata": {}
  },
  {
   "cell_type": "markdown",
   "source": [
    "## Prelim Experiments"
   ],
   "metadata": {}
  },
  {
   "cell_type": "markdown",
   "source": [
    "### Forward CoT"
   ],
   "metadata": {}
  },
  {
   "cell_type": "code",
   "execution_count": null,
   "source": [
    "# Zero-shot Forward COT\n",
    "start = 0 #2480 (5-shot is at the end -- refer to df)\n",
    "num_total = 10\n",
    "k=0\n",
    "template=forward_cot_template\n",
    "get_demos=get_demos_forward_cot\n",
    "get_test_example=get_test_example_cot\n",
    "get_test_answer=get_test_answer_forward_cot\n",
    "completions = sample_completion(start, num_total, k, df, template, get_demos, get_test_example, get_test_answer)"
   ],
   "outputs": [],
   "metadata": {}
  },
  {
   "cell_type": "markdown",
   "source": [
    "## Backward CoT"
   ],
   "metadata": {}
  },
  {
   "cell_type": "code",
   "execution_count": null,
   "source": [
    "# Zero-shot Backward COT\n",
    "start = 0 #2480\n",
    "num_total = 10\n",
    "k=0\n",
    "template=backward_cot_template\n",
    "get_demos=get_demos_backward_cot\n",
    "get_test_example=get_test_example_cot\n",
    "get_test_answer=get_test_answer_backward_cot\n",
    "sample_completion(start, num_total, k, df, template, get_demos, get_test_example, get_test_answer)"
   ],
   "outputs": [],
   "metadata": {}
  },
  {
   "cell_type": "markdown",
   "source": [
    "## Forward or Backward CoT"
   ],
   "metadata": {}
  },
  {
   "cell_type": "code",
   "execution_count": null,
   "source": [
    "# Zero-shot Forward or Backward COT\n",
    "start = 0 #2480\n",
    "num_total = 10\n",
    "k=0\n",
    "template=bidirectional_cot_template\n",
    "get_demos=get_demos_backward_cot # unused b/c zero-shot\n",
    "get_test_example=get_test_example_cot\n",
    "get_test_answer=[get_test_answer_forward_cot, get_test_answer_backward_cot]\n",
    "sample_completion(start, num_total, k, df, template, get_demos, get_test_example, get_test_answer)"
   ],
   "outputs": [],
   "metadata": {}
  }
 ],
 "metadata": {
  "orig_nbformat": 4,
  "language_info": {
   "name": "python"
  }
 },
 "nbformat": 4,
 "nbformat_minor": 2
}